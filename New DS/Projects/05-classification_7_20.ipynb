{
 "nbformat": 4,
 "nbformat_minor": 0,
 "metadata": {
  "anaconda-cloud": {},
  "kernelspec": {
   "display_name": "Python 3",
   "language": "python",
   "name": "python3"
  },
  "language_info": {
   "codemirror_mode": {
    "name": "ipython",
    "version": 3
   },
   "file_extension": ".py",
   "mimetype": "text/x-python",
   "name": "python",
   "nbconvert_exporter": "python",
   "pygments_lexer": "ipython3",
   "version": "3.6.5"
  },
  "colab": {
   "name": "05-classification_7_20.ipynb",
   "provenance": []
  }
 },
 "cells": [
  {
   "cell_type": "markdown",
   "metadata": {
    "id": "snMo9ZsfZrjJ"
   },
   "source": [
    "## Project 5 : Classification"
   ]
  },
  {
   "cell_type": "markdown",
   "metadata": {
    "id": "FD5coBt7ZrjM"
   },
   "source": [
    "## Instructions\n",
    "\n",
    "### Description\n",
    "\n",
    "Practice classification on the Titanic dataset.\n",
    "\n",
    "### Grading\n",
    "\n",
    "For grading purposes, we will clear all outputs from all your cells and then run them all from the top.  Please test your notebook in the same fashion before turning it in.\n",
    "\n",
    "### Submitting Your Solution\n",
    "\n",
    "To submit your notebook, first clear all the cells (this won't matter too much this time, but for larger data sets in the future, it will make the file smaller).  Then use the File->Download As->Notebook to obtain the notebook file.  Finally, submit the notebook file on Canvas.\n"
   ]
  },
  {
   "cell_type": "code",
   "metadata": {
    "collapsed": true,
    "id": "Qy1IWSV2ZrjN"
   },
   "source": [
    "import pandas as pd\n",
    "import numpy as np\n",
    "import sklearn as sk\n",
    "import matplotlib.pyplot as plt\n",
    "import seaborn as sns\n",
    "\n",
    "plt.style.use('ggplot')\n",
    "\n",
    "%matplotlib inline\n",
    "%config InlineBackend.figure_format = 'retina'"
   ],
   "execution_count": null,
   "outputs": []
  },
  {
   "cell_type": "markdown",
   "metadata": {
    "collapsed": true,
    "id": "yTgZ8xwPZrjO"
   },
   "source": [
    "### Introduction\n",
    "\n",
    "On April 15, 1912, the largest passenger liner ever made collided with an iceberg during her maiden voyage. When the Titanic sank it killed 1502 out of 2224 passengers and crew. This sensational tragedy shocked the international community and led to better safety regulations for ships. One of the reasons that the shipwreck resulted in such loss of life was that there were not enough lifeboats for the passengers and crew. Although there was some element of luck involved in surviving the sinking, some groups of people were more likely to survive than others.\n",
    "\n",
    "Intro Videos: \n",
    "https://www.youtube.com/watch?v=3lyiZMeTKIo\n",
    "and\n",
    "https://www.youtube.com/watch?v=ItjXTieWKyI \n",
    "\n",
    "The `titanic_data.csv` file contains data for `887` of the real Titanic passengers. Each row represents one person. The columns describe different attributes about the person including whether they survived (`0=No`), their age, their passenger-class (`1=1st Class, Upper`), gender, and the fare they paid (£s*). For more on the currency: http://www.statisticalconsultants.co.nz/blog/titanic-fare-data.html\n",
    "\n",
    "We are going to try to see if there are correlations between the feature data provided (find a best subset of features) and passenger survival."
   ]
  },
  {
   "cell_type": "markdown",
   "metadata": {
    "id": "Yo2wAo3vZrjO"
   },
   "source": [
    "### Problem 1: Load and understand the data (35 points)\n",
    "\n",
    "#### Your task (some of this is the work you completed for L14 - be sure to copy that work into here as needed)\n",
    "Conduct some preprocessing steps to explore the following and provide code/answers in the below cells:\n",
    "1. Load the `titanic_data.csv` file into a pandas dataframe\n",
    "df = pd.read_csv(\"titanic_data.csv\")\n",
    "2. Explore the data provided (e.g., looking at statistics using describe(), value_counts(), histograms, scatter plots of various features, etc.) \n",
    "did this\n",
    "3. What are the names of feature columns that appear to be usable for learning?\n",
    "Pclass                       int64\n",
    "Name                        object\n",
    "Sex                         object\n",
    "Age                        float64\n",
    "Siblings/Spouses Aboard      int64\n",
    "Parents/Children Aboard      int64\n",
    "Fare                       float64\n",
    "\n",
    "4. What is the name of the column that appears to represent our target?\n",
    "Survived                     int64\n",
    "5. Formulate a hypothesis about the relationship between given feature data and the target\n",
    "I predict that Women in any class will be more likely to survive as the men would be very chivalrous during this time and let them go first.\n",
    "6. How did Pclass affect passenngers' chances of survival?\n",
    "it greatly effected the survival rate as Chances of surviving: First Class:  62.96 Second Class:  40.27 Third Class:  55.09\n",
    "7. What is the age distribution of survivors?\n",
    "the max is 80.0 and the min is 0.42 and the average is 28.4"
   ]
  },
  {
   "cell_type": "code",
   "metadata": {
    "collapsed": true,
    "id": "g_FdHGWgZrjP"
   },
   "source": [
    "df = pd.read_csv(\"titanic_data.csv\")"
   ],
   "execution_count": null,
   "outputs": []
  },
  {
   "cell_type": "code",
   "metadata": {
    "collapsed": true,
    "id": "W39VMl34ZrjP"
   },
   "source": [
    "\n",
    "print(df.head())\n",
    "\n",
    "print(df.describe())\n",
    "\n",
    "print(df.dtypes)\n",
    "\n",
    "df['Age'].hist()\n",
    "print(max(df['Age']))\n",
    "print(min(df['Age']))\n",
    "plt.show()\n",
    "\n",
    "print(df['Survived'].value_counts())"
   ],
   "execution_count": null,
   "outputs": []
  },
  {
   "cell_type": "markdown",
   "metadata": {
    "id": "8P3MyrYvZrjP"
   },
   "source": [
    "---\n",
    "\n",
    "**Edit this cell to provide answers to the following steps:**\n",
    "\n",
    "---\n",
    "\n",
    "Step 3. What are the names of feature columns that appear to be usable for learning?\n",
    "Class type, age, gender, and fare can all be used for learning\n",
    "Step 4. What is the name of the column that appears to represent our target?\n",
    "It is call Survived\n",
    "Step 5. Formulate a hypothesis about the relationship between given feature data and the target\n",
    "I predict that Women in any class will be more likely to survive"
   ]
  },
  {
   "cell_type": "code",
   "metadata": {
    "collapsed": true,
    "id": "UT2-1I86ZrjQ"
   },
   "source": [
    "#Step 6. How did Pclass affect passenngers' chances of survival?\n",
    "#Show your work with a bar plot, dataframe selection, or visual of your choice.\n",
    "dfNew = df[['Pclass', 'Survived']]\n",
    "df1 = dfNew[dfNew['Pclass'] == 1]\n",
    "df2 = dfNew[dfNew['Pclass'] == 2]\n",
    "df3 = dfNew[dfNew['Pclass'] == 3]\n",
    "r=0\n",
    "for x in df1['Survived']:\n",
    "    r += x\n",
    "\n",
    "oneclass = (r/len(df1)) * 100\n",
    "\n",
    "w=0\n",
    "for x in df2['Survived']:\n",
    "    w += x\n",
    "\n",
    "twoclass = (w/len(df1)) * 100\n",
    "\n",
    "l=0\n",
    "for x in df3['Survived']:\n",
    "    l += x\n",
    "\n",
    "noclass = (l/len(df1)) * 100\n",
    "\n",
    "print(\"Chances of surviving: First Class: \", oneclass, \"Second Class: \", twoclass, \"Third Class: \", noclass)\n",
    "\n",
    "classes = ['First Class', 'Second Class', 'Third Class']\n",
    "rates = [oneclass, twoclass, noclass]\n",
    "\n",
    "plt.bar(classes, rates, color=['blue', 'purple', 'red'])\n",
    "plt.xlabel('Passenger Class')\n",
    "plt.ylabel('Survival Rate (%)')\n",
    "plt.title('Survival Rate by Passenger Class')\n",
    "plt.ylim(0, 100)\n",
    "\n",
    "for i, rate in enumerate(rates):\n",
    "    plt.text(i, rate - 5, f\"{rate:.2f}%\", ha='center')\n",
    "\n",
    "plt.show()"
   ],
   "execution_count": null,
   "outputs": []
  },
  {
   "cell_type": "code",
   "metadata": {
    "collapsed": true,
    "id": "beX7g2S2ZrjQ"
   },
   "source": [
    "#Step 7. What is the age distribution of survivors?\n",
    "#Show your work with a dataframe operation and/or histogram plot.\n",
    "from numpy import mean\n",
    "dfnew = df[df['Survived'] == 1]\n",
    "\n",
    "average = mean(dfnew['Age'])\n",
    "plt.hist(dfnew['Age'], 10)\n",
    "plt.xlabel('Age')\n",
    "plt.ylabel('Num of Survivors')\n",
    "plt.show()\n",
    "print('The average age is: ', average)"
   ],
   "execution_count": null,
   "outputs": []
  },
  {
   "cell_type": "markdown",
   "metadata": {
    "id": "Ei9hTK4wZrjR"
   },
   "source": [
    "### Problem 2: transform the data (10 points)\n",
    "The `Sex` column is categorical, meaning its data are separable into groups, but not numerical. To be able to work with this data, we need numbers, so you task is to transform the `Sex` column into numerical data with pandas' `get_dummies` feature and remove the original categorical `Sex` column."
   ]
  },
  {
   "cell_type": "code",
   "metadata": {
    "collapsed": true,
    "id": "wcBPWipsZrjR"
   },
   "source": [
    "df2 = pd.get_dummies(df['Sex'])\n",
    "df3 = df2.join(df)\n",
    "df3.pop('Sex')\n",
    "df3"
   ],
   "execution_count": null,
   "outputs": []
  },
  {
   "cell_type": "markdown",
   "metadata": {
    "id": "XipNK7BMZrjR"
   },
   "source": [
    "### Problem 3: Classification (30 points)\n",
    "Now that the data is transformed, we want to run various classification experiments on it. The first is `K Nearest Neighbors`, which you will conduct by:\n",
    "\n",
    "1. Define input and target data by creating lists of dataframe columns (e.g., inputs = ['Pclass', etc.)\n",
    "2. Split the data into training and testing sets with `train_test_split()`\n",
    "3. Create a `KNeighborsClassifier` using `5` neighbors at first (you can experiment with this parameter)\n",
    "4. Train your model by passing the training dataset to `fit()`\n",
    "5. Calculate predicted target values(y_hat) by passing the testing dataset to `predict()`\n",
    "6. Print the accuracy of the model with `score()`\n",
    "\n",
    "** Note: If you get a python warning as you use the Y, trainY, or testY vector in some of the function calls about \"DataConversionWarning: A column-vector y was passed when a 1d array was expected. Please change the shape of y to (n_samples, )\", you can look up how to use trainY.values.ravel() or trainY.values.flatten() or another function, etc."
   ]
  },
  {
   "cell_type": "code",
   "metadata": {
    "collapsed": true,
    "id": "tbb25y7RZrjS"
   },
   "source": [
    "inputs = ['Pclass', 'Age', 'female', 'male']\n",
    "target = ['Survived']"
   ],
   "execution_count": null,
   "outputs": []
  },
  {
   "cell_type": "code",
   "metadata": {
    "collapsed": true,
    "id": "pS7mNB05ZrjS"
   },
   "source": [
    "from sklearn.model_selection import train_test_split\n",
    "xtrain, xtest, ytrain, ytest = train_test_split(df3[inputs], df3[target], test_size = 0.2, random_state = 42)"
   ],
   "execution_count": null,
   "outputs": []
  },
  {
   "cell_type": "code",
   "metadata": {
    "collapsed": true,
    "id": "yk-xmVtEZrjS"
   },
   "source": [
    "from sklearn import neighbors\n",
    "from sklearn.neighbors import KNeighborsClassifier\n",
    "k = 5\n",
    "model = neighbors.KNeighborsClassifier(k)\n",
    "model.fit(xtrain, ytrain.values.ravel())\n",
    "y_hat = model.predict(xtest)\n",
    "model.score(xtest, ytest.values.ravel())"
   ],
   "execution_count": null,
   "outputs": []
  },
  {
   "cell_type": "markdown",
   "metadata": {
    "id": "l9prt7aTZrjS"
   },
   "source": [
    "### Problem 4: Cross validation, classification report (15 points)\n",
    "- Using the concepts from the 17-model_selection slides and the [`cross_val_score`](http://scikit-learn.org/stable/modules/generated/sklearn.model_selection.cross_val_score.html) function from scikit-learn, estimate the f-score ([`f1-score`](http://scikit-learn.org/stable/modules/generated/sklearn.metrics.f1_score.html#sklearn.metrics.f1_score) (you can use however many folds you wish). To get `cross_val_score` to use `f1-score` rather than the default accuracy measure, you will need to set the `scoring` parameter and use a scorer object created via [`make_scorer`](http://scikit-learn.org/stable/modules/generated/sklearn.metrics.make_scorer.html#sklearn.metrics.make_scorer).  Since this has a few parts to it, let me just give you that parameter: ```scorerVar = make_scorer(f1_score, pos_label=1)```\n",
    "\n",
    "- Using the concepts from the end of the 14-classification slides, output a confusion matrix.\n",
    "\n",
    "- Also, output a classification report [`classification_report`](http://scikit-learn.org/stable/modules/generated/sklearn.metrics.classification_report.html) from sklearn.metrics showing more of the metrics: precision, recall, f1-score for both of our classes."
   ]
  },
  {
   "cell_type": "code",
   "metadata": {
    "collapsed": true,
    "scrolled": false,
    "id": "Ud5y-XedZrjT"
   },
   "source": [
    "from sklearn import metrics\n",
    "from sklearn.metrics import confusion_matrix, f1_score, classification_report, make_scorer\n",
    "from sklearn import model_selection\n",
    "from sklearn.model_selection import cross_val_score\n",
    "from sklearn.model_selection import ShuffleSplit\n",
    "scores = cross_val_score(model, df3[inputs], df3['Survived'], cv = 5)\n",
    "print(scores.mean(), scores.std())\n",
    "\n",
    "conf_matrix = sk.metrics.confusion_matrix(df3['Survived'], model.predict(df3[inputs]))\n",
    "print(conf_matrix)\n",
    "model.score(df3[inputs], df3['Survived'])\n",
    "\n",
    "target_names = ['class 1(Survives)', 'class 2(Dies)']\n",
    "\n",
    "\n",
    "print(classification_report(ytest, y_hat, target_names=target_names))"
   ],
   "execution_count": null,
   "outputs": []
  },
  {
   "cell_type": "markdown",
   "metadata": {
    "id": "6KRHtfpZZrjT"
   },
   "source": [
    "### Problem 5: Support Vector Machines (15 points)\n",
    "Now, repeat the above experiment using the using a Support Vector classifier [`SVC`](http://scikit-learn.org/stable/modules/generated/sklearn.svm.SVC.html) with default parameters (RBF kernel) model in scikit-learn, and output:\n",
    "\n",
    "- The fit accuracy (using the `score` method of the model)\n",
    "- The f-score (using the [`cross_val_score`](http://scikit-learn.org/stable/modules/generated/sklearn.model_selection.cross_val_score.html) function)\n",
    "- The confusion matrix\n",
    "- The precision, recall, and f-measure for the 1 class (you can just print the results of the [`classification_report`](http://scikit-learn.org/stable/modules/generated/sklearn.metrics.classification_report.html) function from sklearn.metrics)"
   ]
  },
  {
   "cell_type": "code",
   "metadata": {
    "collapsed": true,
    "id": "zGjGEZD6ZrjT"
   },
   "source": [
    "from sklearn.svm import SVC\n",
    "from sklearn.model_selection import cross_val_score\n",
    "\n",
    "#create a model object\n",
    "model1 = SVC(kernel = 'linear', C=10)\n",
    "model1.fit(df3[inputs], df3['Survived'])\n",
    "#train our model\n",
    "y_hat = model1.predict(xtest)\n",
    "model1.score(xtest, ytest)\n",
    "#evaluate the model \n",
    "scores = cross_val_score(model1, df3[inputs], df3['Survived'], cv = 5)\n",
    "print(scores.mean(), scores.std())\n",
    "#setup to get f-score and cv\n",
    "\n",
    "#confusion matrix\n",
    "conf_matrix = sk.metrics.confusion_matrix(df3['Survived'], model1.predict(df3[inputs]))\n",
    "print(conf_matrix)\n",
    "\n",
    "#classification report\n",
    "print(classification_report(ytest, y_hat, target_names=target_names))"
   ],
   "execution_count": null,
   "outputs": []
  },
  {
   "cell_type": "markdown",
   "metadata": {
    "id": "WSDsdQFOZrjU"
   },
   "source": [
    "### Problem 6: Logistic Regression (15 points)\n",
    "\n",
    "Now, repeat the above experiment using the [`LogisticRegression`](http://scikit-learn.org/stable/modules/generated/sklearn.linear_model.LogisticRegression.html) model in scikit-learn, and output:\n",
    "\n",
    "- The fit accuracy (using the `score` method of the model)\n",
    "- The f-score (using the [`cross_val_score`](http://scikit-learn.org/stable/modules/generated/sklearn.model_selection.cross_val_score.html) function)\n",
    "- The confusion matrix\n",
    "- The precision, recall, and f-measure for the 1 class (you can just print the results of the [`classification_report`](http://scikit-learn.org/stable/modules/generated/sklearn.metrics.classification_report.html) function from sklearn.metrics)"
   ]
  },
  {
   "cell_type": "code",
   "metadata": {
    "id": "nnZIwTdPZrjU"
   },
   "source": [
    "from sklearn.linear_model import LogisticRegression\n",
    "\n",
    "#create a model object\n",
    "model = LogisticRegression(random_state=42)\n",
    "#train our model\n",
    "model.fit(xtrain, ytrain.values.ravel())\n",
    "#evaluate the model \n",
    "model.score(xtest, ytest.values.ravel())\n",
    "#setup to get f-score and cv\n",
    "scores = cross_val_score(model, df3[inputs], df3['Survived'], cv = 5)\n",
    "print(scores.mean(), scores.std())\n",
    "# dont use split data bc this splits it\n",
    "\n",
    "#confusion matrix\n",
    "conf_matrix = sk.metrics.confusion_matrix(df3['Survived'], model.predict(df3[inputs]))\n",
    "print(conf_matrix)\n",
    "model.score(df3[inputs], df3['Survived'])\n",
    "#classification report\n",
    "print(classification_report(ytest, y_hat, target_names=target_names))"
   ],
   "execution_count": null,
   "outputs": []
  },
  {
   "cell_type": "code",
   "outputs": [],
   "source": [
    "# age groups\n",
    "bins = [0, 18, 30, 50, 100] \n",
    "group_names = ['Children','Younger Adults', 'Adults', 'Elderly']\n",
    "age_groups = pd.cut(df3['Age'], bins, labels=group_names)\n",
    "\n",
    "# Sex and Pclass groups\n",
    "sex_groups = [{'male':1, 'female':0}, {'male':0, 'female':1}] \n",
    "pclass_groups = [1, 2, 3] \n",
    "\n",
    "survival_rates = []\n",
    "\n",
    "# calculate survival rates\n",
    "for sex in sex_groups:\n",
    "    for pclass in pclass_groups:\n",
    "        for age_group in group_names:\n",
    "            group = df3.loc[(df3['male'] == sex['male']) & (df3['female'] == sex['female'])\n",
    "                            & (df3['Pclass'] == pclass)\n",
    "                            & (age_groups == age_group)]\n",
    "\n",
    "            survival_rate = group['Survived'].mean()\n",
    "            group_name = f\"{age_group} {['male' if sex['male'] == 1 else 'female']} in Pclass {pclass}\"\n",
    "\n",
    "            if not np.isnan(survival_rate):\n",
    "                survival_rates.append((group_name, survival_rate))\n",
    "\n",
    "# sort survival rates in descending order\n",
    "survival_rates.sort(key=lambda x: x[1], reverse=True)\n",
    "\n",
    "for group_name, survival_rate in survival_rates[:10]:\n",
    "    print(f\"Survival rate of {group_name}: {survival_rate}\")"
   ],
   "metadata": {
    "collapsed": false
   },
   "execution_count": null
  },
  {
   "cell_type": "markdown",
   "metadata": {
    "id": "fWmwls34ZrjU"
   },
   "source": [
    "### Problem 7: Comparision and Discussion (5 points)\n",
    "Edit this cell to provide a brief discussion (3-5 sentances at most):\n",
    "1. What was the model/algorithm that performed best for you?\n",
    "For me the LogisticRegression worked the best followed closely by KNN Classifier worked best with an R-Squared Score of 0.791 and .790 respectively.  \n",
    "2. What feaures and parameters were used to achieve that performance?\n",
    "I used 'Pclass', 'Age', 'female', 'male' however if I were to use just male or female The model would lose a bit of accuracy so I included both I dont know why this is as they contain the same info.\n",
    "3. What insights did you gain from your experimentation about the predictive power of this dataset and did it match your original hypothesis about the relationship between given feature data and the target?\n",
    "I was close with my prediction. The highest survival rate was elderly women in 1st class and girls in 2nd class\n"
   ]
  },
  {
   "cell_type": "markdown",
   "metadata": {
    "id": "IZLuk1FmZrjU"
   },
   "source": [
    "### Questionnaire\n",
    "1) How long did you spend on this assignment?\n",
    "about 45 minutes to an hour <br><br>\n",
    "2) What did you like about it? What did you not like about it?\n",
    "I liked applying the code to an actual example. <br><br>\n",
    "3) Did you find any errors or is there anything you would like changed?\n",
    "<br><br>"
   ]
  },
  {
   "cell_type": "code",
   "outputs": [],
   "source": [],
   "metadata": {
    "collapsed": false
   },
   "execution_count": null
  }
 ]
}
