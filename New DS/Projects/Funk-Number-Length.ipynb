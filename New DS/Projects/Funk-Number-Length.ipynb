{
 "cells": [
  {
   "cell_type": "markdown",
   "source": [
    "'''\n",
    "Task: Given a list of words, create a dictionary mapping lengths of words to alphabetically sorted lists of words of that length\n",
    "\n",
    "@Author: Ben Funk\n",
    "Date: Jan 9,2024\n",
    "'''"
   ],
   "metadata": {
    "collapsed": false
   }
  },
  {
   "cell_type": "code",
   "execution_count": 2,
   "outputs": [],
   "source": [
    "# Imports\n"
   ],
   "metadata": {
    "collapsed": false,
    "ExecuteTime": {
     "end_time": "2024-01-09T23:22:28.214417Z",
     "start_time": "2024-01-09T23:22:28.210405Z"
    }
   }
  },
  {
   "cell_type": "code",
   "execution_count": 8,
   "outputs": [],
   "source": [
    "# Code\n",
    "def word_lengths(words):\n",
    "\n",
    "    dictonary = {}\n",
    "\n",
    "    # Adds each string to dictonary and sorts them based on the first letter\n",
    "    for i in words:\n",
    "        i = i.lower()  # Convert the word to\n",
    "        firstChar = len(i)\n",
    "\n",
    "        if firstChar in dictonary:\n",
    "            dictonary[firstChar].append(i)\n",
    "        else:\n",
    "            dictonary[firstChar] = [i]\n",
    "\n",
    "    for word in dictonary:\n",
    "        dictonary[word].sort()\n",
    "\n",
    "    return dictonary"
   ],
   "metadata": {
    "collapsed": false,
    "ExecuteTime": {
     "end_time": "2024-01-09T23:26:11.263589Z",
     "start_time": "2024-01-09T23:26:11.257536Z"
    }
   }
  },
  {
   "cell_type": "code",
   "outputs": [],
   "source": [
    "# Test Cases\n",
    "def test_word_lengths():\n",
    "    assert word_lengths(['one', 'two', 'three', 'six']) == {3: ['one', 'six', 'two'], 5: ['three']}, \"Test Case 1 Failed\"\n",
    "    assert word_lengths(['apple', 'banana', 'cherry']) == {5: ['apple'], 6: ['banana', 'cherry']}, \"Test Case 2 Failed\"\n",
    "    assert word_lengths(['abc', 'def', 'ghi', 'jkl']) == {3: ['abc', 'def', 'ghi', 'jkl']}, \"Test Case 3 Failed\"\n",
    "    assert word_lengths(['cat', 'bat', 'rat', 'elephant']) == {3: ['bat', 'cat', 'rat'], 8: ['elephant']}, \"Test Case 4 Failed\"\n",
    "    assert word_lengths([]) == {}, \"Test Case 5 Failed\"\n",
    "    assert word_lengths(['a', 'an', 'the']) == {1: ['a'], 2: ['an'], 3: ['the']}, \"Test Case 6 Failed\"\n",
    "    assert word_lengths(['Python', 'coding', 'is', 'fun']) == {2: ['is'], 3: ['fun'], 6: ['coding', 'python']}, \"Test Case 7 Failed\"\n",
    "    assert word_lengths(['Hello', 'World']) == {5: ['hello', 'world']}, \"Test Case 8 Failed\"\n",
    "    assert word_lengths([]) == {}, \"Test Case 9 Failed\"\n",
    "    assert word_lengths(['UsA', 'CHina', 'jaPan', 'inDia', 'CanaDA']) == {3: ['usa'], 5: ['china', 'india', 'japan'],\n",
    "                                                                          6: ['canada']}, \"Test Case 10 Failed\"\n",
    "test_word_lengths()"
   ],
   "metadata": {
    "collapsed": false,
    "ExecuteTime": {
     "end_time": "2024-01-09T23:26:11.900360Z",
     "start_time": "2024-01-09T23:26:11.896854Z"
    }
   },
   "execution_count": 9
  },
  {
   "cell_type": "code",
   "outputs": [],
   "source": [],
   "metadata": {
    "collapsed": false
   }
  }
 ],
 "metadata": {
  "kernelspec": {
   "display_name": "Python 3",
   "language": "python",
   "name": "python3"
  },
  "language_info": {
   "codemirror_mode": {
    "name": "ipython",
    "version": 2
   },
   "file_extension": ".py",
   "mimetype": "text/x-python",
   "name": "python",
   "nbconvert_exporter": "python",
   "pygments_lexer": "ipython2",
   "version": "2.7.6"
  }
 },
 "nbformat": 4,
 "nbformat_minor": 0
}
