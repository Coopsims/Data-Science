{
 "cells": [
  {
   "cell_type": "markdown",
   "source": [
    "'''\n",
    "Task: Given an integer number n, print the number of times the digit 5 occurs in the number (without converting to a string).\n",
    "\n",
    "@Author: Ben Funk\n",
    "Date: Jan 9,2024\n",
    "\n",
    "NOTE: I will be using python 3.12 for all of my assignments this semester. If this is an issue please let me know and I can go back to an earlier version.\n",
    "'''"
   ],
   "metadata": {
    "collapsed": false
   }
  },
  {
   "cell_type": "markdown",
   "source": [
    "'''\n",
    "Resourses:\n",
    "https://docs.python.org/3.12/library/functions.html#divmod\n",
    "'''"
   ],
   "metadata": {
    "collapsed": false
   }
  },
  {
   "cell_type": "code",
   "execution_count": null,
   "outputs": [],
   "source": [
    "# Imports"
   ],
   "metadata": {
    "collapsed": false
   }
  },
  {
   "cell_type": "code",
   "outputs": [],
   "source": [
    "# Code\n",
    "# So this is the python way to do it\n",
    "def count_fives_code(param):\n",
    "\n",
    "    # creating empty variables\n",
    "    digits = []\n",
    "    \n",
    "    # splitting the number into digits\n",
    "    while param > 0:\n",
    "        \n",
    "        param, digit = divmod(param, 10)\n",
    "        digits.append(digit) # Technically, this reverses the number, however; for this application it doesn't matter the order for this particular assignment.\n",
    "        \n",
    "    count = digits.count(5)\n",
    "    \n",
    "    return count\n",
    "\n"
   ],
   "metadata": {
    "collapsed": false,
    "ExecuteTime": {
     "end_time": "2024-01-11T20:45:12.817994Z",
     "start_time": "2024-01-11T20:45:12.815281Z"
    }
   },
   "execution_count": 1
  },
  {
   "cell_type": "code",
   "outputs": [],
   "source": [
    "#Test Cases\n",
    "def test_count_fives():\n",
    "    \n",
    "        assert count_fives_code(55125) == 3, \"Test Case 1 Failed\"\n",
    "        assert count_fives_code(1234567) == 1, \"Test Case 2 Failed\"\n",
    "        assert count_fives_code(55555) == 5, \"Test Case 3 Failed\"\n",
    "        assert count_fives_code(0) == 0, \"Test Case 4 Failed\"\n",
    "        assert count_fives_code(5555555555) == 10, \"Test Case 5 Failed\"\n",
    "        assert count_fives_code(9876543210) == 1, \"Test Case 6 Failed\"\n",
    "        assert count_fives_code(25252525) == 4, \"Test Case 7 Failed\"\n",
    "        assert count_fives_code(1234567890) == 1, \"Test Case 8 Failed\"\n",
    "        assert count_fives_code(15151515) == 4, \"Test Case 9 Failed\"\n",
    "        assert count_fives_code(5959595959) == 5, \"Test Case 10 Failed\"\n",
    "        assert count_fives_code(1980273423419840712134120948712) == 0, \"Test Case 11 Failed\"\n",
    "\n",
    "test_count_fives()"
   ],
   "metadata": {
    "collapsed": false,
    "ExecuteTime": {
     "end_time": "2024-01-11T20:45:13.460439Z",
     "start_time": "2024-01-11T20:45:13.458401Z"
    }
   },
   "execution_count": 2
  },
  {
   "cell_type": "code",
   "outputs": [],
   "source": [],
   "metadata": {
    "collapsed": false
   }
  }
 ],
 "metadata": {
  "kernelspec": {
   "display_name": "Python 3",
   "language": "python",
   "name": "python3"
  },
  "language_info": {
   "codemirror_mode": {
    "name": "ipython",
    "version": 2
   },
   "file_extension": ".py",
   "mimetype": "text/x-python",
   "name": "python",
   "nbconvert_exporter": "python",
   "pygments_lexer": "ipython2",
   "version": "2.7.6"
  }
 },
 "nbformat": 4,
 "nbformat_minor": 0
}
