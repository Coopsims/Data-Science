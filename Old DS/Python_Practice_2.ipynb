{
 "cells": [
  {
   "cell_type": "code",
   "execution_count": 3,
   "metadata": {
    "ExecuteTime": {
     "end_time": "2023-08-28T00:27:04.702174Z",
     "start_time": "2023-08-28T00:27:04.699814Z"
    }
   },
   "outputs": [
    {
     "name": "stdout",
     "output_type": "stream",
     "text": [
      "4 ['pear', 'plum']\n",
      "5 ['apple', 'peach']\n",
      "6 ['cherry', 'orange', 'quince']\n",
      "9 ['blueberry']\n",
      "10 ['cantaloupe', 'strawberry']\n",
      "11 ['watermelons']\n"
     ]
    }
   ],
   "source": [
    "# Ben Funk\n",
    "# Date: Jan 21, 2021\n",
    "# Pracice 2\n",
    "\n",
    "words = ['apple', 'plum', 'pear', 'peach', 'orange', 'cherry', 'quince', 'blueberry', 'strawberry', 'watermelons',\n",
    "         'cantaloupe']\n",
    "\n",
    "dictonary = {}\n",
    "\n",
    "# Adds each string to dictonary and sorts them based on the first letter\n",
    "for i in words:\n",
    "    firstChar = len(i)\n",
    "\n",
    "    if firstChar in dictonary:\n",
    "        dictonary[firstChar].append(i)\n",
    "    else:\n",
    "        dictonary[firstChar] = [i]\n",
    "\n",
    "for j in sorted(dictonary.keys()):\n",
    "    print(j, sorted(dictonary[j]))\n"
   ]
  },
  {
   "cell_type": "code",
   "execution_count": 2,
   "metadata": {
    "ExecuteTime": {
     "end_time": "2023-08-28T00:27:02.427859Z",
     "start_time": "2023-08-28T00:27:02.424170Z"
    }
   },
   "outputs": [],
   "source": []
  }
 ],
 "metadata": {
  "kernelspec": {
   "display_name": "Python 3",
   "language": "python",
   "name": "python3"
  },
  "language_info": {
   "codemirror_mode": {
    "name": "ipython",
    "version": 3
   },
   "file_extension": ".py",
   "mimetype": "text/x-python",
   "name": "python",
   "nbconvert_exporter": "python",
   "pygments_lexer": "ipython3",
   "version": "3.8.5"
  }
 },
 "nbformat": 4,
 "nbformat_minor": 4
}
