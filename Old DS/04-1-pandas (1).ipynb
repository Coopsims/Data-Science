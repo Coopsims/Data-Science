{
 "cells": [
  {
   "cell_type": "markdown",
   "metadata": {},
   "source": [
    "## Project 4-1 : Data Acquisition"
   ]
  },
  {
   "cell_type": "markdown",
   "metadata": {},
   "source": [
    "## Assignment Instructions\n",
    "\n",
    "### Description\n",
    "\n",
    "Some pandas and data acquisition problems.\n",
    "\n",
    "### Grading\n",
    "\n",
    "For grading purposes, we will clear all outputs from all your cells and then run them all from the top.  Please test your notebook in the same fashion before turning it in.\n",
    "\n",
    "### Submitting Your Solution\n",
    "\n",
    "To submit your notebook, first clear all the cells (this won't matter too much this time, but for larger data sets in the future, it will make the file smaller).  Then use the File->Download As->Notebook to obtain the notebook file.  Finally, submit the notebook file on Canvas."
   ]
  },
  {
   "cell_type": "markdown",
   "metadata": {},
   "source": [
    "### Helpful Resources\n",
    "There may be more posted in a Canvas announcement, so be sure to check there, as well.\n",
    "- [iloc and loc](https://www.shanelynn.ie/select-pandas-dataframe-rows-and-columns-using-iloc-loc-and-ix/)"
   ]
  },
  {
   "cell_type": "code",
   "execution_count": 1,
   "metadata": {
    "ExecuteTime": {
     "end_time": "2023-09-11T01:17:46.884501Z",
     "start_time": "2023-09-11T01:17:46.667146Z"
    }
   },
   "outputs": [],
   "source": [
    "# Imports\n",
    "import numpy as np\n",
    "import pandas as pd\n",
    "from pandas import Series, DataFrame"
   ]
  },
  {
   "cell_type": "markdown",
   "metadata": {},
   "source": [
    "### Problem: pandas and text file acquisition (20 points)\n",
    "\n",
    "Included with this assignment is a text file named `plants.txt` (source: [USDA](https://plants.usda.gov/java/)).  **Read this file into a pandas DataFrame object** (10 points), then write code to **find the answers to the questions** that follow (5 points each).  There are many ways to answer each of these questions - see if you can answer each in `3` lines of code or less (this won't affect your grade).  Show us your code below.\n",
    "<br><br>Note: `plants.txt` can be found on Canvas under Files."
   ]
  },
  {
   "cell_type": "markdown",
   "metadata": {},
   "source": [
    "---\n",
    "\n",
    "**Questions for Problem (Write answers in this cell):**\n",
    "\n",
    "---\n",
    "\n",
    "(a) What is the common name of the plant whose symbol (in the Plants database) is 'ECAP'?\n",
    "Common Name of 'ECAP': Apache hedgehog cactus\n",
    "\n",
    "(b) How many plants are listed in the Agavaceae family?\n",
    "Total families with the name 'Agavaceae':  253\n",
    "\n",
    "(c) How many different family names are there (ignoring missing/null family names)?\n",
    "<br>**Note:** There are two acceptable answers to this questions that differ by 1.\n",
    "Total family name's:  543\n",
    "\n",
    "(d) How many plants have the term 'vulgaris' in their scientific name?\n",
    "Total Scientific Names with the name 'vulgaris':  133"
   ]
  },
  {
   "cell_type": "code",
   "execution_count": 2,
   "metadata": {
    "scrolled": false,
    "ExecuteTime": {
     "end_time": "2023-09-11T01:17:54.619137Z",
     "start_time": "2023-09-11T01:17:54.509410Z"
    }
   },
   "outputs": [
    {
     "name": "stdout",
     "output_type": "stream",
     "text": [
      "Common Name of 'ECAP': 30086    Apache hedgehog cactus\n",
      "Name: Common Name, dtype: object\n",
      "Total families with the name 'Agavaceae':  253\n",
      "Total family name's:  543\n",
      "Total Scientific Names with the name 'vulgaris':  133\n"
     ]
    }
   ],
   "source": [
    "# Your Code Here\n",
    "# Use the lecture notes to look through the data frame to properly answer the questions above!\n",
    "# Start by reading the plants file into a pandas dataframe\n",
    "\n",
    "dataFrame = pd.read_csv(\"plants.txt\")\n",
    "\n",
    "# A.\n",
    "cName = dataFrame[dataFrame['Symbol']=='ECAP']\n",
    "print(\"Common Name of 'ECAP':\",cName['Common Name'])\n",
    "\n",
    "# B.\n",
    "i=0\n",
    "for x in dataFrame['Family']:\n",
    "    if x =='Agavaceae':\n",
    "        i+= 1\n",
    "print(\"Total families with the name 'Agavaceae': \",i)\n",
    "\n",
    "# C.\n",
    "dictonary = {}\n",
    "total = 0\n",
    "for famType in dataFrame['Family']:\n",
    "    if famType in dictonary:\n",
    "        dictonary[famType] += 1\n",
    "    else:\n",
    "         if famType != 'null':\n",
    "            dictonary[famType] = 1\n",
    "            total += 1\n",
    "print(\"Total family name's: \" ,total)\n",
    "\n",
    "#D.\n",
    "j = 0\n",
    "for sciType in dataFrame['Scientific Name with Author']:\n",
    "    if \"vulgaris\" in sciType:\n",
    "        j+= 1\n",
    "print(\"Total Scientific Names with the name 'vulgaris': \",j)  "
   ]
  },
  {
   "cell_type": "markdown",
   "metadata": {},
   "source": [
    "### Questionnaire\n",
    "1) How long did you spend on this assignment?\n",
    "<br>This took me about an hour<br>\n",
    "2) What did you like about it? What did you not like about it?\n",
    "<br>I thought the challenge of getting each beneath 3 lines was fun<br>\n",
    "3) Did you find any errors or is there anything you would like changed?\n",
    "<br>nope<br>"
   ]
  },
  {
   "cell_type": "code",
   "execution_count": null,
   "outputs": [],
   "source": [],
   "metadata": {
    "collapsed": false
   }
  }
 ],
 "metadata": {
  "kernelspec": {
   "display_name": "Python 3",
   "language": "python",
   "name": "python3"
  },
  "language_info": {
   "codemirror_mode": {
    "name": "ipython",
    "version": 3
   },
   "file_extension": ".py",
   "mimetype": "text/x-python",
   "name": "python",
   "nbconvert_exporter": "python",
   "pygments_lexer": "ipython3",
   "version": "3.8.5"
  }
 },
 "nbformat": 4,
 "nbformat_minor": 2
}
