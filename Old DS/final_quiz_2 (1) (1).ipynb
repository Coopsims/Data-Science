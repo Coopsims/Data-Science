{
 "cells": [
  {
   "cell_type": "markdown",
   "metadata": {},
   "source": [
    "# Final quiz, 2 of 3\n",
    "\n",
    "## Unsupervised learning and clustering\n",
    "\n",
    "### Instructions:\n",
    "\n",
    "Step through this jupyter notebook and write code to complete the instructed tasks.  \n",
    "Questions in the notebook are mirrored in the quiz on Canvas. Submit answers to the  \n",
    "questions on Canvas. When you are done, restart your notebook and run all the cells.  \n",
    "Save your notebook **without clearing the output**. Download your saved notebook  \n",
    "(if you are working on jupyterhub rather than locally) and submit the file on Canvas."
   ]
  },
  {
   "cell_type": "code",
   "execution_count": 1,
   "metadata": {},
   "outputs": [],
   "source": [
    "# We'll import that tools you'll need.\n",
    "# You may import additional tools if you wish to.\n",
    "import numpy as np\n",
    "import pandas as pd\n",
    "from sklearn.decomposition import PCA\n",
    "from sklearn.cluster import KMeans\n",
    "import matplotlib.pyplot as plt\n",
    "%matplotlib inline"
   ]
  },
  {
   "cell_type": "markdown",
   "metadata": {},
   "source": [
    "## Part 1 of 2\n",
    "\n",
    "### Apply PCA to a data set.\n",
    "\n",
    "Load the csv data from ```quiz_2_pca.csv```.\n",
    "\n",
    "The csv data file can be loaded as a numpy array or pandas DataFrame, with 400 samples.\n",
    "\n",
    "**Q5: What is the dimensionality of the data (how many features does each sample have)?**\n",
    "\n",
    "---\n",
    "Apply a PCA transformation to the data. Keep the same number of dimensions (set n_components equal to the dimensionality of the original data).\n",
    "\n",
    "**Q6: What is the fraction (ratio) of variance explained by the data in the *first* PC dimension?**\n",
    "\n",
    "**Q7: What is the fraction (ratio) of variance explained by the data in the *last* PC dimension?**\n",
    "\n",
    "---\n",
    "Create a scatter plot of the top two features/PCs (plot the PC1 data versus the PC2 data).  \n",
    "You should see data clusters/groups that are clearly separated.\n",
    "\n",
    "**Q8: How many clusters/groups are there?**"
   ]
  },
  {
   "cell_type": "code",
   "execution_count": 22,
   "metadata": {
    "scrolled": true
   },
   "outputs": [
    {
     "name": "stdout",
     "output_type": "stream",
     "text": [
      "2.979521805635611\n",
      "0.996800720630674\n",
      "0.021914601042874956\n",
      "0.0017628726908382087\n"
     ]
    }
   ],
   "source": [
    "##################\n",
    "## Part 1 of 2\n",
    "##################\n",
    "#\n",
    "# Show your work below. Submit your answers on Canvas.\n",
    "# You may create additional cells to segment your work.\n",
    "\n",
    "## Read the data in as a pandas DataFrame\n",
    "df = pd.read_csv('quiz_2_pca.csv', header=None)\n",
    "\n",
    "## Or read the data in as a numpy array\n",
    "# X = np.loadtxt('quiz_2_pca.csv', delimiter=',')\n",
    "df\n",
    "\n",
    "from sklearn.preprocessing import StandardScaler\n",
    "\n",
    " # Calculate the scaling paratmeters\n",
    "ss = StandardScaler()\n",
    "ss.fit(df)\n",
    "\n",
    "X_scaled = ss.transform(df)\n",
    "\n",
    "#print(df)\n",
    "#print(X_scaled)\n",
    "pca = PCA(n_components=4)\n",
    "pca.fit(X_scaled)\n",
    "\n",
    "X_pca = pca.transform(X_scaled)\n",
    "\n",
    "print(np.var(X_pca[:,0]))\n",
    "print(np.var(X_pca[:,1]))\n",
    "print(np.var(X_pca[:,2]))\n",
    "print(np.var(X_pca[:,3]))"
   ]
  },
  {
   "cell_type": "markdown",
   "metadata": {},
   "source": [
    "## Part 2 of 2\n",
    "\n",
    "### Apply k-means to a data set.\n",
    "\n",
    "Load the csv data from ```quiz_2_kmeans.csv```.\n",
    "\n",
    "The csv data file can be loaded as a numpy array or pandas DataFrame, with 300 samples  \n",
    "in two dimensions, e.g., a matrix of shape (300, 2).\n",
    "Visualize the data in a scatter plot (x versus y).\n",
    "\n",
    "\n",
    "You should see several \"stretched out\" clusters of data samples.\n",
    "\n",
    "**Q9: Using your human judgment, how many clusters are there?**  \n",
    "No need to overthink this. It should be obvious.\n",
    "\n",
    "---\n",
    "Apply k-means clustering to the data. Set the k value (number of clusters) to the  \n",
    "number of clusters you see in the visualization (your answer to the question above).\n",
    "\n",
    "Now plot the data again, using the label of each of sample as the color indicator.  \n",
    "In other words, get label predictions using``` KMeans.predict()```. Then use  \n",
    "```plt.scatter()``` to visualize the data.\n",
    "\n",
    "**Q10: Which best describes the outcome?  \n",
    "a. All the data were grouped into a single cluster, because the samples are so close together.  \n",
    "b. The data were clustered similar to how most humans would subjectively cluster them.  \n",
    "c. The human-subjective clustering does not match the k-means clustering, because k is too small.  \n",
    "d. The human-subjective clustering does not match the k-means clustering, because k-means only considers geometric distance.**"
   ]
  },
  {
   "cell_type": "code",
   "execution_count": 27,
   "metadata": {},
   "outputs": [
    {
     "ename": "TypeError",
     "evalue": "'(slice(None, None, None), 0)' is an invalid key",
     "output_type": "error",
     "traceback": [
      "\u001b[1;31m---------------------------------------------------------------------------\u001b[0m",
      "\u001b[1;31mTypeError\u001b[0m                                 Traceback (most recent call last)",
      "\u001b[1;32m<ipython-input-27-c37f7760b696>\u001b[0m in \u001b[0;36m<module>\u001b[1;34m\u001b[0m\n\u001b[0;32m     10\u001b[0m \u001b[0mdata\u001b[0m \u001b[1;33m=\u001b[0m \u001b[0mdf\u001b[0m\u001b[1;33m\u001b[0m\u001b[1;33m\u001b[0m\u001b[0m\n\u001b[0;32m     11\u001b[0m \u001b[1;33m\u001b[0m\u001b[0m\n\u001b[1;32m---> 12\u001b[1;33m \u001b[0mdf\u001b[0m \u001b[1;33m=\u001b[0m \u001b[0mpd\u001b[0m\u001b[1;33m.\u001b[0m\u001b[0mDataFrame\u001b[0m\u001b[1;33m(\u001b[0m\u001b[0mdata\u001b[0m\u001b[1;33m,\u001b[0m\u001b[0mcolumns\u001b[0m\u001b[1;33m=\u001b[0m\u001b[1;33m[\u001b[0m\u001b[0mdata\u001b[0m\u001b[1;33m[\u001b[0m\u001b[1;33m:\u001b[0m\u001b[1;33m,\u001b[0m\u001b[1;36m0\u001b[0m\u001b[1;33m]\u001b[0m\u001b[1;33m,\u001b[0m\u001b[0mdata\u001b[0m\u001b[1;33m[\u001b[0m\u001b[1;33m:\u001b[0m\u001b[1;33m,\u001b[0m\u001b[1;36m1\u001b[0m\u001b[1;33m]\u001b[0m\u001b[1;33m]\u001b[0m\u001b[1;33m)\u001b[0m\u001b[1;33m\u001b[0m\u001b[1;33m\u001b[0m\u001b[0m\n\u001b[0m\u001b[0;32m     13\u001b[0m \u001b[0mprint\u001b[0m \u001b[1;33m(\u001b[0m\u001b[0mdf\u001b[0m\u001b[1;33m)\u001b[0m\u001b[1;33m\u001b[0m\u001b[1;33m\u001b[0m\u001b[0m\n\u001b[0;32m     14\u001b[0m \u001b[1;31m## Or read the data in as a numpy array\u001b[0m\u001b[1;33m\u001b[0m\u001b[1;33m\u001b[0m\u001b[1;33m\u001b[0m\u001b[0m\n",
      "\u001b[1;32m~\\anaconda3\\lib\\site-packages\\pandas\\core\\frame.py\u001b[0m in \u001b[0;36m__getitem__\u001b[1;34m(self, key)\u001b[0m\n\u001b[0;32m   2900\u001b[0m             \u001b[1;32mif\u001b[0m \u001b[0mself\u001b[0m\u001b[1;33m.\u001b[0m\u001b[0mcolumns\u001b[0m\u001b[1;33m.\u001b[0m\u001b[0mnlevels\u001b[0m \u001b[1;33m>\u001b[0m \u001b[1;36m1\u001b[0m\u001b[1;33m:\u001b[0m\u001b[1;33m\u001b[0m\u001b[1;33m\u001b[0m\u001b[0m\n\u001b[0;32m   2901\u001b[0m                 \u001b[1;32mreturn\u001b[0m \u001b[0mself\u001b[0m\u001b[1;33m.\u001b[0m\u001b[0m_getitem_multilevel\u001b[0m\u001b[1;33m(\u001b[0m\u001b[0mkey\u001b[0m\u001b[1;33m)\u001b[0m\u001b[1;33m\u001b[0m\u001b[1;33m\u001b[0m\u001b[0m\n\u001b[1;32m-> 2902\u001b[1;33m             \u001b[0mindexer\u001b[0m \u001b[1;33m=\u001b[0m \u001b[0mself\u001b[0m\u001b[1;33m.\u001b[0m\u001b[0mcolumns\u001b[0m\u001b[1;33m.\u001b[0m\u001b[0mget_loc\u001b[0m\u001b[1;33m(\u001b[0m\u001b[0mkey\u001b[0m\u001b[1;33m)\u001b[0m\u001b[1;33m\u001b[0m\u001b[1;33m\u001b[0m\u001b[0m\n\u001b[0m\u001b[0;32m   2903\u001b[0m             \u001b[1;32mif\u001b[0m \u001b[0mis_integer\u001b[0m\u001b[1;33m(\u001b[0m\u001b[0mindexer\u001b[0m\u001b[1;33m)\u001b[0m\u001b[1;33m:\u001b[0m\u001b[1;33m\u001b[0m\u001b[1;33m\u001b[0m\u001b[0m\n\u001b[0;32m   2904\u001b[0m                 \u001b[0mindexer\u001b[0m \u001b[1;33m=\u001b[0m \u001b[1;33m[\u001b[0m\u001b[0mindexer\u001b[0m\u001b[1;33m]\u001b[0m\u001b[1;33m\u001b[0m\u001b[1;33m\u001b[0m\u001b[0m\n",
      "\u001b[1;32m~\\anaconda3\\lib\\site-packages\\pandas\\core\\indexes\\base.py\u001b[0m in \u001b[0;36mget_loc\u001b[1;34m(self, key, method, tolerance)\u001b[0m\n\u001b[0;32m   2893\u001b[0m             \u001b[0mcasted_key\u001b[0m \u001b[1;33m=\u001b[0m \u001b[0mself\u001b[0m\u001b[1;33m.\u001b[0m\u001b[0m_maybe_cast_indexer\u001b[0m\u001b[1;33m(\u001b[0m\u001b[0mkey\u001b[0m\u001b[1;33m)\u001b[0m\u001b[1;33m\u001b[0m\u001b[1;33m\u001b[0m\u001b[0m\n\u001b[0;32m   2894\u001b[0m             \u001b[1;32mtry\u001b[0m\u001b[1;33m:\u001b[0m\u001b[1;33m\u001b[0m\u001b[1;33m\u001b[0m\u001b[0m\n\u001b[1;32m-> 2895\u001b[1;33m                 \u001b[1;32mreturn\u001b[0m \u001b[0mself\u001b[0m\u001b[1;33m.\u001b[0m\u001b[0m_engine\u001b[0m\u001b[1;33m.\u001b[0m\u001b[0mget_loc\u001b[0m\u001b[1;33m(\u001b[0m\u001b[0mcasted_key\u001b[0m\u001b[1;33m)\u001b[0m\u001b[1;33m\u001b[0m\u001b[1;33m\u001b[0m\u001b[0m\n\u001b[0m\u001b[0;32m   2896\u001b[0m             \u001b[1;32mexcept\u001b[0m \u001b[0mKeyError\u001b[0m \u001b[1;32mas\u001b[0m \u001b[0merr\u001b[0m\u001b[1;33m:\u001b[0m\u001b[1;33m\u001b[0m\u001b[1;33m\u001b[0m\u001b[0m\n\u001b[0;32m   2897\u001b[0m                 \u001b[1;32mraise\u001b[0m \u001b[0mKeyError\u001b[0m\u001b[1;33m(\u001b[0m\u001b[0mkey\u001b[0m\u001b[1;33m)\u001b[0m \u001b[1;32mfrom\u001b[0m \u001b[0merr\u001b[0m\u001b[1;33m\u001b[0m\u001b[1;33m\u001b[0m\u001b[0m\n",
      "\u001b[1;32mpandas\\_libs\\index.pyx\u001b[0m in \u001b[0;36mpandas._libs.index.IndexEngine.get_loc\u001b[1;34m()\u001b[0m\n",
      "\u001b[1;32mpandas\\_libs\\index.pyx\u001b[0m in \u001b[0;36mpandas._libs.index.IndexEngine.get_loc\u001b[1;34m()\u001b[0m\n",
      "\u001b[1;31mTypeError\u001b[0m: '(slice(None, None, None), 0)' is an invalid key"
     ]
    }
   ],
   "source": [
    "##################\n",
    "## Part 2 of 2\n",
    "##################\n",
    "#\n",
    "# Show your work below. Submit your answers on Canvas.\n",
    "# You may create additional cells to segment your work.\n",
    "\n",
    "## Read the data in as a pandas DataFrame\n",
    "df = pd.read_csv('quiz_2_kmeans.csv', header=None)\n",
    "data = df\n",
    "\n",
    "df = pd.DataFrame(data,columns=[data[:,0],data[:,1]])\n",
    "print (df)\n",
    "## Or read the data in as a numpy array\n",
    "# X = np.loadtxt('quiz_2_kmeans.csv', delimiter=',')"
   ]
  },
  {
   "cell_type": "code",
   "execution_count": null,
   "metadata": {},
   "outputs": [],
   "source": []
  }
 ],
 "metadata": {
  "kernelspec": {
   "display_name": "Python 3",
   "language": "python",
   "name": "python3"
  },
  "language_info": {
   "codemirror_mode": {
    "name": "ipython",
    "version": 3
   },
   "file_extension": ".py",
   "mimetype": "text/x-python",
   "name": "python",
   "nbconvert_exporter": "python",
   "pygments_lexer": "ipython3",
   "version": "3.8.5"
  }
 },
 "nbformat": 4,
 "nbformat_minor": 2
}
