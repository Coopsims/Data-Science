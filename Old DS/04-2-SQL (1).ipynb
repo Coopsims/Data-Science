{
 "cells": [
  {
   "cell_type": "markdown",
   "metadata": {},
   "source": [
    "## Project 4-2 : Data Acquisition SQL"
   ]
  },
  {
   "cell_type": "markdown",
   "metadata": {},
   "source": [
    "## Assignment Instructions\n",
    "\n",
    "### Description\n",
    "\n",
    "Some SQL problems.\n",
    "\n",
    "### Grading\n",
    "\n",
    "For grading purposes, we will clear all outputs from all your cells and then run them all from the top.  Please test your notebook in the same fashion before turning it in.\n",
    "\n",
    "### Submitting Your Solution\n",
    "\n",
    "To submit your notebook, first clear all the cells (this won't matter too much this time, but for larger data sets in the future, it will make the file smaller).  Then use the File->Download As->Notebook to obtain the notebook file.  Finally, submit the notebook file on Canvas."
   ]
  },
  {
   "cell_type": "code",
   "execution_count": 1,
   "metadata": {
    "ExecuteTime": {
     "end_time": "2023-09-17T22:50:17.879536Z",
     "start_time": "2023-09-17T22:50:17.484605Z"
    }
   },
   "outputs": [],
   "source": [
    "import numpy as np\n",
    "import pandas as pd\n",
    "from pandas import Series, DataFrame\n",
    "from sqlalchemy import create_engine, inspect"
   ]
  },
  {
   "cell_type": "markdown",
   "metadata": {},
   "source": [
    "### Problem: SQL (50 points)\n",
    "\n",
    "Use the csci303 database downloaded in class and code provided (12-SQL_New) to answer the following questions.  Note that you can answer every one of these questions just with single SQL queries, but you are free to instead pull data into pandas and answer the questions that way, or use multiple queries, etc.\n",
    "\n",
    "The data you'll be working with is from the [Bureau of Labor Statistics](https://www.bls.gov/emp/documentation/education-training-system.htm).\n",
    "<br>There are three tables:\n",
    "- `occupation_codes` provides a mapping between two different organization's occupation codes and titles.  You'll need this table to lookup occupation codes for the other two tables.\n",
    "- `occupation_attainments` gives the percentages of workers (aged 25 or older) in each occupation (in 2014-2015) who had attained a particular level of education.\n",
    "- `occupation_assignments` gives requirements for each occupation in terms of education, experience, and on-the-job training.\n",
    "\n",
    "The code to inspect the names and types of the columns in thses tables is given below. Feel free to comment this out once you get a feel for the table structures."
   ]
  },
  {
   "cell_type": "markdown",
   "metadata": {},
   "source": [
    "## SET UP\n",
    "\n",
    "To set up we have to create an inspector on the database to get the information we need! To do so we will follow these steps:\n",
    "1. Create a Database variable, this holds the name of the database you downloaded for this assignment!\n",
    "2. Create an inspector object and create_engine on the database object from # 1\n",
    "3. Print out information from the database to gain a better understanding of what it contains!"
   ]
  },
  {
   "cell_type": "markdown",
   "metadata": {},
   "source": [
    "---\n",
    "\n",
    "**Questions for Set Up (Edit this cell):**\n",
    "\n",
    "---\n",
    "\n",
    "(a) What is the variable type of the acs_code column?\n",
    "The type is INTEGER.\n",
    "\n",
    "(b) What does the 'Real' column type mean?\n",
    "Real is a float function\n",
    "\n",
    "(c) What column(s) are shared amongst the three tables? This is how they are related!!\n",
    "The soc_code column is shared between all three tables. this would most likely be a Foreign Key that links to "
   ]
  },
  {
   "cell_type": "code",
   "execution_count": 2,
   "metadata": {
    "scrolled": false,
    "ExecuteTime": {
     "end_time": "2023-09-17T22:50:21.103125Z",
     "start_time": "2023-09-17T22:50:21.086391Z"
    }
   },
   "outputs": [
    {
     "name": "stdout",
     "output_type": "stream",
     "text": [
      "Table name:  occupation_assignments\n",
      "Column name: soc_code: TEXT\n",
      "Column name: education: TEXT\n",
      "Column name: experience: TEXT\n",
      "Column name: on_the_job: TEXT\n",
      "\n",
      "Table name:  occupation_attainments\n",
      "Column name: soc_code: TEXT\n",
      "Column name: less_than_hs: REAL\n",
      "Column name: hs_or_equivalent: REAL\n",
      "Column name: some_college: REAL\n",
      "Column name: associates: REAL\n",
      "Column name: bachelors: REAL\n",
      "Column name: masters: REAL\n",
      "Column name: doctoral_or_professional: REAL\n",
      "\n",
      "Table name:  occupation_codes\n",
      "Column name: sort_order: INTEGER\n",
      "Column name: soc_code: TEXT\n",
      "Column name: soc_title: TEXT\n",
      "Column name: acs_code: INTEGER\n",
      "Column name: acs_title: TEXT\n",
      "\n"
     ]
    }
   ],
   "source": [
    "#FINISH THIS CODE\n",
    "\n",
    "dburi = 'sqlite:///csci303.sqlite3' # Data base connection!\n",
    "inspector = inspect(create_engine(dburi)) # Here we have created an inspector to take a look at the db!\n",
    "\n",
    "tables = list(filter(lambda name: \"occupation\" in name, inspector.get_table_names()))\n",
    "\n",
    "# Loop through the tables list and print all the table names and columns\n",
    "for table in tables:\n",
    "    print(\"Table name: \", table) # Print the table name (table)\n",
    "    for column in inspector.get_columns(table): # Print the column name and type, think of the column as a dataframe, column['xxx']\n",
    "        print(\"Column name: %s: %s\" % (column['name'], column['type'])) # TODO enter in what you want from the columns\n",
    "    print()\n"
   ]
  },
  {
   "cell_type": "markdown",
   "metadata": {},
   "source": [
    "---\n",
    "\n",
    "**Questions for Problem 2 (Edit this cell):**\n",
    "\n",
    "---\n",
    "\n",
    "(a) What are the SOC and ACS codes for Database administrators?\n",
    "The SOC code is 15-1141 and ACS code is 1060.\n",
    "\n",
    "(b) How many SOC occupation titles are there grouped under the ACS title 'Postsecondary teachers'?\n",
    "there are 38.\n",
    "\n",
    "(c) How much education and prior experience do you typically need to become a software developer?\n",
    "about 50% had a bachelors and no background expierence.\n",
    "\n",
    "(d) What SOC occupation has the highest percentage of doctoral or professional degree holders?\n",
    "Podiatrists at 99.099998\n",
    "EXTRA CREDIT: (5pts) What acs_title has the longest length? (There are two right answers!)\n",
    "At 105 characters, it's: Grinding, lapping, polishing, and buffing machine tool setters, operators, and tenders, metal and plastic"
   ]
  },
  {
   "cell_type": "code",
   "execution_count": 4,
   "metadata": {
    "ExecuteTime": {
     "end_time": "2023-09-17T22:53:01.522145Z",
     "start_time": "2023-09-17T22:53:01.506773Z"
    }
   },
   "outputs": [
    {
     "name": "stdout",
     "output_type": "stream",
     "text": [
      "38\n",
      "you messed up\n",
      "105 Grinding, lapping, polishing, and buffing machine tool setters, operators, and tenders, metal and plastic \n"
     ]
    }
   ],
   "source": [
    "# YOUR CODE HERE\n",
    "# A\n",
    "pd.read_sql_query('SELECT soc_code, soc_title, acs_code, acs_title FROM occupation_codes WHERE lower(soc_title) LIKE \\'database%%\\';', dburi)[:10]\n",
    "# B\n",
    "import sqlite3\n",
    "try:\n",
    "    db = sqlite3.connect('csci303.sqlite3')\n",
    "    cursor = db.cursor()\n",
    "except sqlite3.Error as e:\n",
    "    print(e)\n",
    "\n",
    "try:\n",
    "    results = cursor.execute('SELECT soc_title FROM occupation_codes WHERE acs_title = \\'Postsecondary teachers\\';')\n",
    "    i=0\n",
    "    for x in results:\n",
    "        i+= 1\n",
    "    print(i)\n",
    "except sqlite3.Error as e:\n",
    "    print(e)\n",
    "    db.rollback()\n",
    "\n",
    "# C\n",
    "query = (\"SELECT * FROM occupation_assignments AS a, occupation_codes AS o ON o.soc_code = a.soc_code WHERE lower(o.soc_title) LIKE \\'software %%\\' OR lower(o.acs_title) LIKE \\'software %%\\';\")\n",
    "\n",
    "\n",
    "pd.read_sql_query(query, dburi)[:10]\n",
    "\n",
    "# D\n",
    "query = (\"SELECT o.soc_title, MAX(a.doctoral_or_professional) FROM occupation_attainments AS a, occupation_codes AS o ON o.soc_code = a.soc_code;\")\n",
    "\n",
    "pd.read_sql_query(query, dburi)[:10]\n",
    "\n",
    "# EC\n",
    "import re\n",
    "\n",
    "maxLen = 0\n",
    "maxTitle = ''\n",
    "try:\n",
    "    results = cursor.execute('SELECT soc_title FROM occupation_codes;')\n",
    "    for x in results:\n",
    "        x = str(x)\n",
    "        try:\n",
    "            found = re.search(\"'(.+?)'\", x).group(1)\n",
    "        except AttributeError:\n",
    "            print('you messed up')\n",
    "        i = len(found)\n",
    "        if i> maxLen:\n",
    "            maxLen = i - 1\n",
    "            maxTitle = found\n",
    "except sqlite3.Error as e:\n",
    "    print(e)\n",
    "    db.rollback()\n",
    "print(maxLen, maxTitle)"
   ]
  },
  {
   "cell_type": "markdown",
   "metadata": {},
   "source": [
    "### Questionnaire\n",
    "1) How long did you spend on this assignment?\n",
    "<br>2.5 - 3 hours<br>\n",
    "2) What did you like about it? What did you not like about it?\n",
    "<br>I thought it was really fun!<br>\n",
    "3) Did you find any errors or is there anything you would like changed?\n",
    "<br><br>"
   ]
  },
  {
   "cell_type": "code",
   "execution_count": null,
   "metadata": {},
   "outputs": [],
   "source": []
  }
 ],
 "metadata": {
  "kernelspec": {
   "display_name": "Python 3",
   "language": "python",
   "name": "python3"
  },
  "language_info": {
   "codemirror_mode": {
    "name": "ipython",
    "version": 3
   },
   "file_extension": ".py",
   "mimetype": "text/x-python",
   "name": "python",
   "nbconvert_exporter": "python",
   "pygments_lexer": "ipython3",
   "version": "3.8.5"
  }
 },
 "nbformat": 4,
 "nbformat_minor": 2
}
