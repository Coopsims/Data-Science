{
 "cells": [
  {
   "cell_type": "code",
   "execution_count": 5,
   "metadata": {
    "ExecuteTime": {
     "end_time": "2023-08-28T00:06:34.360441Z",
     "start_time": "2023-08-28T00:06:34.357593Z"
    }
   },
   "outputs": [
    {
     "name": "stdout",
     "output_type": "stream",
     "text": [
      "9\n"
     ]
    }
   ],
   "source": [
    "# Ben Funk\n",
    "# Date: Jan 14, 2021\n",
    "# Pracice 1\n",
    "\n",
    "# Imports\n",
    "import math\n",
    "\n",
    "# Variables\n",
    "n = 5555055555\n",
    "f = 0\n",
    "\n",
    "# List comprehension\n",
    "#r = [(n // (10 ** i)) % 10 for i in range(math.ceil(math.log(n, 10)) - 1, -1, -1)]\n",
    "\n",
    "# Regular Way\n",
    "# Initialize an empty list to hold the individual digits of n\n",
    "r = []\n",
    "\n",
    "# Calculate the number of digits in n\n",
    "num_digits = math.ceil(math.log(n, 10))\n",
    "\n",
    "# Iterate through each digit position\n",
    "for i in range(0,num_digits):\n",
    "    # Calculate the i-th digit from the right\n",
    "    digit = (n // (10 ** i)) % 10\n",
    "    # Append the digit to the list\n",
    "    r.append(digit)\n",
    "\n",
    "# Checks each value, and if it =5, increases the value of f by one\n",
    "for j in r:\n",
    "    if (j == 5):\n",
    "        f = f + 1\n",
    "\n",
    "print(f)\n"
   ]
  },
  {
   "cell_type": "code",
   "execution_count": null,
   "outputs": [],
   "source": [],
   "metadata": {
    "collapsed": false
   }
  }
 ],
 "metadata": {
  "kernelspec": {
   "display_name": "Python 3",
   "language": "python",
   "name": "python3"
  },
  "language_info": {
   "codemirror_mode": {
    "name": "ipython",
    "version": 3
   },
   "file_extension": ".py",
   "mimetype": "text/x-python",
   "name": "python",
   "nbconvert_exporter": "python",
   "pygments_lexer": "ipython3",
   "version": "3.8.5"
  }
 },
 "nbformat": 4,
 "nbformat_minor": 4
}
